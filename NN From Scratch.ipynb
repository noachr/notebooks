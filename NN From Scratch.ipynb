{
 "cells": [
  {
   "cell_type": "code",
   "execution_count": 1,
   "metadata": {},
   "outputs": [],
   "source": [
    "import numpy as np\n",
    "from sklearn.datasets import load_iris"
   ]
  },
  {
   "cell_type": "code",
   "execution_count": 2,
   "metadata": {},
   "outputs": [],
   "source": [
    "iris = load_iris()"
   ]
  },
  {
   "cell_type": "code",
   "execution_count": 33,
   "metadata": {},
   "outputs": [
    {
     "data": {
      "text/plain": [
       "((150, 4), (150,))"
      ]
     },
     "execution_count": 33,
     "metadata": {},
     "output_type": "execute_result"
    }
   ],
   "source": [
    "data = iris[\"data\"]\n",
    "target = iris[\"target\"]\n",
    "data = (data - data.mean(axis=0)) / data.std(axis=0)\n",
    "data.shape, target.shape"
   ]
  },
  {
   "cell_type": "code",
   "execution_count": 43,
   "metadata": {},
   "outputs": [],
   "source": [
    "w1 = np.random.randn(4,16)\n",
    "b1 = np.random.randn(16)\n",
    "w2 = np.random.randn(16,3)\n",
    "b2 = np.random.randn(3)"
   ]
  },
  {
   "cell_type": "code",
   "execution_count": 44,
   "metadata": {},
   "outputs": [],
   "source": [
    "def relu(x):\n",
    "    x = np.where(x < 0,0.0,x)\n",
    "    return x\n",
    "    \n",
    "def softmax(x):\n",
    "    x = np.exp(x)\n",
    "    x = x / np.sum(x)\n",
    "    return x\n",
    "    \n",
    "def forward(x):\n",
    "    a = x@w1 + b1\n",
    "    b = relu(a)\n",
    "    c = b@w2 + b2\n",
    "    d = softmax(c)\n",
    "    return [x,a,b,c,d]\n",
    "    \n",
    "def backward(l,fp,target):\n",
    "    x,a,b,c,d = fp\n",
    "    oh = np.zeros(d.shape)\n",
    "    oh[0,target] = 1.0\n",
    "    dl_dc = d - oh #(1,3) cross entropy + softmax derivative\n",
    "    dl_dw2 = b.T @ dl_dc # (16,3)\n",
    "    dl_db2 = dl_dc #(1,3) \n",
    "    dc_db = w2.T #(3,16)\n",
    "    dl_db = dl_dc @ dc_db #(1,16)\n",
    "    db_da = np.where(a < 0,0.0,1.0) #(1,16)\n",
    "    dl_da = db_da * dl_db #(1,16)\n",
    "    dl_dw1 = x.T @ dl_da #(4,16)\n",
    "    dl_db1 = dl_da #(1,16)\n",
    "    return [dl_dw1,dl_db1.reshape(-1),dl_dw2,dl_db2.reshape(-1)]    \n",
    "    \n",
    "def loss(preds,target):\n",
    "    preds = np.log(preds)\n",
    "    loss = -preds[0,target]\n",
    "    return loss"
   ]
  },
  {
   "cell_type": "code",
   "execution_count": 45,
   "metadata": {},
   "outputs": [
    {
     "name": "stdout",
     "output_type": "stream",
     "text": [
      "Epoch 0 Loss: 1.0496839349693763\n",
      "Epoch 1 Loss: 0.3353357169062118\n",
      "Epoch 2 Loss: 0.24412064284321208\n",
      "Epoch 3 Loss: 0.20134505177339826\n",
      "Epoch 4 Loss: 0.17480800940283306\n",
      "Epoch 5 Loss: 0.15734366276824588\n",
      "Epoch 6 Loss: 0.1433637234463169\n",
      "Epoch 7 Loss: 0.12657954970485585\n",
      "Epoch 8 Loss: 0.12366277648440777\n",
      "Epoch 9 Loss: 0.11345174161002594\n",
      "Epoch 10 Loss: 0.10262063516472147\n",
      "Epoch 11 Loss: 0.10322570287004523\n",
      "Epoch 12 Loss: 0.09790190259784919\n",
      "Epoch 13 Loss: 0.09160199773170576\n",
      "Epoch 14 Loss: 0.08595214952041667\n",
      "Epoch 15 Loss: 0.0832177238935504\n",
      "Epoch 16 Loss: 0.07502691103079856\n",
      "Epoch 17 Loss: 0.08026540334414702\n",
      "Epoch 18 Loss: 0.07408943792047112\n",
      "Epoch 19 Loss: 0.07374967195786264\n",
      "Epoch 20 Loss: 0.07003339490674274\n",
      "Epoch 21 Loss: 0.06904640383811927\n",
      "Epoch 22 Loss: 0.06490929980311731\n",
      "Epoch 23 Loss: 0.0625697292832957\n",
      "Epoch 24 Loss: 0.06607975250505337\n",
      "Epoch 25 Loss: 0.06151986770267728\n",
      "Epoch 26 Loss: 0.06062778089654536\n",
      "Epoch 27 Loss: 0.06164601370692373\n",
      "Epoch 28 Loss: 0.06005840897024825\n",
      "Epoch 29 Loss: 0.058265415887700886\n",
      "Epoch 30 Loss: 0.059294972842110806\n",
      "Epoch 31 Loss: 0.05626501870347411\n",
      "Epoch 32 Loss: 0.05537148124804593\n",
      "Epoch 33 Loss: 0.056999030033212585\n",
      "Epoch 34 Loss: 0.05556303948543471\n",
      "Epoch 35 Loss: 0.05445683288061498\n",
      "Epoch 36 Loss: 0.0524370721663694\n",
      "Epoch 37 Loss: 0.051177850901106985\n",
      "Epoch 38 Loss: 0.05333583605416269\n",
      "Epoch 39 Loss: 0.051741624333149897\n",
      "Epoch 40 Loss: 0.05053692063994894\n",
      "Epoch 41 Loss: 0.05157028403012435\n",
      "Epoch 42 Loss: 0.04772529793042652\n",
      "Epoch 43 Loss: 0.05119249841912772\n",
      "Epoch 44 Loss: 0.04827324701678196\n",
      "Epoch 45 Loss: 0.050303027885469774\n",
      "Epoch 46 Loss: 0.05052513215762238\n",
      "Epoch 47 Loss: 0.04847385573397076\n",
      "Epoch 48 Loss: 0.04547511932313939\n",
      "Epoch 49 Loss: 0.04936697503792737\n"
     ]
    }
   ],
   "source": [
    "learning_rate = 0.01\n",
    "\n",
    "for epoch in range(50):\n",
    "    idxs = np.random.permutation(len(data))\n",
    "    losses = []\n",
    "    for x,y in zip(data[idxs],target[idxs]):\n",
    "        x = x[None,:]\n",
    "        fp = forward(x)\n",
    "        l = loss(fp[-1],y)\n",
    "        losses.append(l)\n",
    "        gradients = backward(l,fp,y)\n",
    "        for w, g in zip([w1,b1,w2,b2],gradients):\n",
    "            w -= learning_rate * g\n",
    "    print(f\"Epoch {epoch} Loss: {np.mean(losses)}\")"
   ]
  },
  {
   "cell_type": "code",
   "execution_count": 47,
   "metadata": {},
   "outputs": [
    {
     "name": "stdout",
     "output_type": "stream",
     "text": [
      "Training Accuracy: 0.98\n"
     ]
    }
   ],
   "source": [
    "preds = []\n",
    "for x in data:\n",
    "    p = forward(x[None,:])[-1]\n",
    "    preds.append(np.argmax(p,axis=1))\n",
    "preds = np.concatenate(preds)\n",
    "acc = (preds == target).astype(np.float).mean()\n",
    "print(f\"Training Accuracy: {acc}\")"
   ]
  }
 ],
 "metadata": {
  "kernelspec": {
   "display_name": "Python 3",
   "language": "python",
   "name": "python3"
  },
  "language_info": {
   "codemirror_mode": {
    "name": "ipython",
    "version": 3
   },
   "file_extension": ".py",
   "mimetype": "text/x-python",
   "name": "python",
   "nbconvert_exporter": "python",
   "pygments_lexer": "ipython3",
   "version": "3.6.6"
  }
 },
 "nbformat": 4,
 "nbformat_minor": 2
}
